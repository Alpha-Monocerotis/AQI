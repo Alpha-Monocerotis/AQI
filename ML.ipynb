{
 "cells": [
  {
   "cell_type": "code",
   "execution_count": 1,
   "metadata": {
    "collapsed": true
   },
   "outputs": [],
   "source": [
    "import pandas as pd\n",
    "import numpy as np\n",
    "from sklearn.metrics import mean_absolute_error, mean_squared_error, r2_score\n",
    "from sklearn.model_selection import train_test_split\n",
    "from sklearn.preprocessing import MinMaxScaler\n",
    "from sklearn.ensemble import GradientBoostingRegressor, RandomForestRegressor\n",
    "from sklearn.linear_model import LinearRegression, LogisticRegression, LogisticRegressionCV\n",
    "from pandas import DataFrame\n",
    "from pandas import concat\n",
    "import itertools\n",
    "import xgboost as xgb"
   ]
  },
  {
   "cell_type": "code",
   "execution_count": 2,
   "outputs": [],
   "source": [
    "def series_to_supervised(data, n_in=1, n_out=1, dropnan=True):\n",
    "    n_vars = 1 if type(data) is list else data.shape[1]\n",
    "    df = DataFrame(data)\n",
    "    cols, names = [], []\n",
    "    for i in range(n_in, 0, -1):\n",
    "        cols.append(df.shift(i))\n",
    "        names += [('var%d(t-%d)' % (j + 1, i)) for j in range(n_vars)]\n",
    "    for i in range(0, n_out):\n",
    "        cols.append(df.shift(-i))\n",
    "        if i == 0:\n",
    "            names += [('var%d(t)' % (j + 1)) for j in range(n_vars)]\n",
    "        else:\n",
    "            names += [('var%d(t+%d)' % (j + 1, i)) for j in range(n_vars)]\n",
    "    agg = concat(cols, axis=1)\n",
    "    agg.columns = names\n",
    "    if dropnan:\n",
    "        agg.dropna(inplace=True)\n",
    "    return agg\n",
    "\n",
    "def mean_percent_error(y_pred, y_true):\n",
    "    return np.sum(np.abs(y_pred - y_true) / y_true) / y_true.shape[0]"
   ],
   "metadata": {
    "collapsed": false,
    "pycharm": {
     "name": "#%%\n"
    }
   }
  },
  {
   "cell_type": "code",
   "execution_count": 21,
   "outputs": [
    {
     "name": "stdout",
     "output_type": "stream",
     "text": [
      "('mse', 74.21195286607337) ('mae', 4.986946475624938) ('mape', 0.10258095525233342) ('r2', 0.9664660699546058) 1 PM2_5\n",
      "('mse', 172.26411074076174) ('mae', 8.339670181529591) ('mape', 0.17331276810172092) ('r2', 0.9221595387829553) 2 PM2_5\n",
      "('mse', 300.5813839995832) ('mae', 11.444309446368814) ('mape', 0.24502663374944736) ('r2', 0.8641772017213983) 3 PM2_5\n",
      "('mse', 436.2234278300893) ('mae', 14.165774554689367) ('mape', 0.31173290995840025) ('r2', 0.8028850427987632) 4 PM2_5\n",
      "('mse', 568.8561247428657) ('mae', 16.51627746398364) ('mape', 0.3707910707486178) ('r2', 0.7429527083400331) 5 PM2_5\n",
      "('mse', 207.67631853304044) ('mae', 8.079824321285187) ('mape', 0.08780101364430504) ('r2', 0.9188372213435057) 1 PM_10\n",
      "('mse', 509.3785056218757) ('mae', 12.962473469240985) ('mape', 0.14238300458519945) ('r2', 0.8009278323296801) 2 PM_10\n",
      "('mse', 828.4301020370532) ('mae', 16.976362388842055) ('mape', 0.18982837924302873) ('r2', 0.6762380541076802) 3 PM_10\n",
      "('mse', 1100.6928414435442) ('mae', 20.041525434490097) ('mape', 0.22808349911988043) ('r2', 0.5698340085672436) 4 PM_10\n",
      "('mse', 1330.3981522543393) ('mae', 22.54930860808929) ('mape', 0.2602175891601803) ('r2', 0.48006199493925883) 5 PM_10\n",
      "('mse', 6.753437856612667) ('mae', 1.8272860116705614) ('mape', 0.09275284657325648) ('r2', 0.8470421070541394) 1 SO2\n",
      "('mse', 13.491443273331736) ('mae', 2.7071665656713546) ('mape', 0.13766326715163987) ('r2', 0.6944337417916983) 2 SO2\n",
      "('mse', 20.680169113958986) ('mae', 3.397253380721118) ('mape', 0.17442925856939923) ('r2', 0.5316170577718473) 3 SO2\n",
      "('mse', 27.95305856477429) ('mae', 3.973221044636052) ('mape', 0.2059866118380048) ('r2', 0.36689416113104545) 4 SO2\n",
      "('mse', 34.435127597783435) ('mae', 4.425334599860546) ('mape', 0.23112837079105158) ('r2', 0.2200824716967711) 5 SO2\n",
      "('mse', 18.01182356469603) ('mae', 2.9537498186956883) ('mape', 0.06763702377117413) ('r2', 0.9615565320442723) 1 NO2\n",
      "('mse', 47.12114018153277) ('mae', 5.025613606296805) ('mape', 0.11656305203156524) ('r2', 0.8994271714854719) 2 NO2\n",
      "('mse', 77.48109765833875) ('mae', 6.606921443368573) ('mape', 0.1558398266444011) ('r2', 0.8346285103057957) 3 NO2\n",
      "('mse', 103.53666607493831) ('mae', 7.714633726959091) ('mape', 0.18416548507837802) ('r2', 0.779016905745382) 4 NO2\n",
      "('mse', 123.99975424048431) ('mae', 8.515965815126334) ('mape', 0.20457889550730537) ('r2', 0.7353415903981169) 5 NO2\n",
      "('mse', 32.392963209667556) ('mae', 4.102175271824196) ('mape', 0.11066121306580146) ('r2', 0.9771563455231427) 1 O3\n",
      "('mse', 71.27977948987488) ('mae', 6.2694488315329995) ('mape', 0.15790223494651254) ('r2', 0.9497331984322038) 2 O3\n",
      "('mse', 111.90300845897842) ('mae', 7.984994448881373) ('mape', 0.24906128766453184) ('r2', 0.9210855257787954) 3 O3\n",
      "('mse', 149.3053677792067) ('mae', 9.30389091444974) ('mape', 0.28853294341585073) ('r2', 0.8947092240060832) 4 O3\n",
      "('mse', 180.62287579112106) ('mae', 10.28126236970089) ('mape', 0.28728596574863496) ('r2', 0.8726239850771892) 5 O3\n"
     ]
    },
    {
     "ename": "ValueError",
     "evalue": "at least one array or dtype is required",
     "output_type": "error",
     "traceback": [
      "\u001B[0;31m---------------------------------------------------------------------------\u001B[0m",
      "\u001B[0;31mValueError\u001B[0m                                Traceback (most recent call last)",
      "\u001B[0;32m<ipython-input-21-844d647db546>\u001B[0m in \u001B[0;36m<module>\u001B[0;34m\u001B[0m\n\u001B[1;32m     15\u001B[0m         \u001B[0mtrain_X\u001B[0m \u001B[0;34m=\u001B[0m \u001B[0mscaler_X\u001B[0m\u001B[0;34m.\u001B[0m\u001B[0mfit_transform\u001B[0m\u001B[0;34m(\u001B[0m\u001B[0mtrain_X\u001B[0m\u001B[0;34m)\u001B[0m\u001B[0;34m\u001B[0m\u001B[0;34m\u001B[0m\u001B[0m\n\u001B[1;32m     16\u001B[0m         \u001B[0mtest_X\u001B[0m \u001B[0;34m=\u001B[0m \u001B[0mscaler_X\u001B[0m\u001B[0;34m.\u001B[0m\u001B[0mtransform\u001B[0m\u001B[0;34m(\u001B[0m\u001B[0mtest_X\u001B[0m\u001B[0;34m)\u001B[0m\u001B[0;34m\u001B[0m\u001B[0;34m\u001B[0m\u001B[0m\n\u001B[0;32m---> 17\u001B[0;31m         \u001B[0mtrain_y\u001B[0m \u001B[0;34m=\u001B[0m \u001B[0mscaler_y\u001B[0m\u001B[0;34m.\u001B[0m\u001B[0mfit_transform\u001B[0m\u001B[0;34m(\u001B[0m\u001B[0mtrain_y\u001B[0m\u001B[0;34m)\u001B[0m\u001B[0;34m\u001B[0m\u001B[0;34m\u001B[0m\u001B[0m\n\u001B[0m\u001B[1;32m     18\u001B[0m         \u001B[0mtest_y\u001B[0m \u001B[0;34m=\u001B[0m \u001B[0mscaler_y\u001B[0m\u001B[0;34m.\u001B[0m\u001B[0mtransform\u001B[0m\u001B[0;34m(\u001B[0m\u001B[0mtest_y\u001B[0m\u001B[0;34m)\u001B[0m\u001B[0;34m\u001B[0m\u001B[0;34m\u001B[0m\u001B[0m\n\u001B[1;32m     19\u001B[0m         \u001B[0mestimators\u001B[0m \u001B[0;34m=\u001B[0m \u001B[0;34m[\u001B[0m \u001B[0mi\u001B[0m \u001B[0;32mfor\u001B[0m \u001B[0mi\u001B[0m \u001B[0;32min\u001B[0m \u001B[0mrange\u001B[0m\u001B[0;34m(\u001B[0m\u001B[0;36m50\u001B[0m\u001B[0;34m,\u001B[0m \u001B[0;36m101\u001B[0m\u001B[0;34m,\u001B[0m \u001B[0;36m50\u001B[0m\u001B[0;34m)\u001B[0m\u001B[0;34m]\u001B[0m\u001B[0;34m\u001B[0m\u001B[0;34m\u001B[0m\u001B[0m\n",
      "\u001B[0;32m~/PycharmProjects/AQI/venv/lib/python3.7/site-packages/sklearn/base.py\u001B[0m in \u001B[0;36mfit_transform\u001B[0;34m(self, X, y, **fit_params)\u001B[0m\n\u001B[1;32m    688\u001B[0m         \u001B[0;32mif\u001B[0m \u001B[0my\u001B[0m \u001B[0;32mis\u001B[0m \u001B[0;32mNone\u001B[0m\u001B[0;34m:\u001B[0m\u001B[0;34m\u001B[0m\u001B[0;34m\u001B[0m\u001B[0m\n\u001B[1;32m    689\u001B[0m             \u001B[0;31m# fit method of arity 1 (unsupervised transformation)\u001B[0m\u001B[0;34m\u001B[0m\u001B[0;34m\u001B[0m\u001B[0;34m\u001B[0m\u001B[0m\n\u001B[0;32m--> 690\u001B[0;31m             \u001B[0;32mreturn\u001B[0m \u001B[0mself\u001B[0m\u001B[0;34m.\u001B[0m\u001B[0mfit\u001B[0m\u001B[0;34m(\u001B[0m\u001B[0mX\u001B[0m\u001B[0;34m,\u001B[0m \u001B[0;34m**\u001B[0m\u001B[0mfit_params\u001B[0m\u001B[0;34m)\u001B[0m\u001B[0;34m.\u001B[0m\u001B[0mtransform\u001B[0m\u001B[0;34m(\u001B[0m\u001B[0mX\u001B[0m\u001B[0;34m)\u001B[0m\u001B[0;34m\u001B[0m\u001B[0;34m\u001B[0m\u001B[0m\n\u001B[0m\u001B[1;32m    691\u001B[0m         \u001B[0;32melse\u001B[0m\u001B[0;34m:\u001B[0m\u001B[0;34m\u001B[0m\u001B[0;34m\u001B[0m\u001B[0m\n\u001B[1;32m    692\u001B[0m             \u001B[0;31m# fit method of arity 2 (supervised transformation)\u001B[0m\u001B[0;34m\u001B[0m\u001B[0;34m\u001B[0m\u001B[0;34m\u001B[0m\u001B[0m\n",
      "\u001B[0;32m~/PycharmProjects/AQI/venv/lib/python3.7/site-packages/sklearn/preprocessing/_data.py\u001B[0m in \u001B[0;36mfit\u001B[0;34m(self, X, y)\u001B[0m\n\u001B[1;32m    334\u001B[0m         \u001B[0;31m# Reset internal state before fitting\u001B[0m\u001B[0;34m\u001B[0m\u001B[0;34m\u001B[0m\u001B[0;34m\u001B[0m\u001B[0m\n\u001B[1;32m    335\u001B[0m         \u001B[0mself\u001B[0m\u001B[0;34m.\u001B[0m\u001B[0m_reset\u001B[0m\u001B[0;34m(\u001B[0m\u001B[0;34m)\u001B[0m\u001B[0;34m\u001B[0m\u001B[0;34m\u001B[0m\u001B[0m\n\u001B[0;32m--> 336\u001B[0;31m         \u001B[0;32mreturn\u001B[0m \u001B[0mself\u001B[0m\u001B[0;34m.\u001B[0m\u001B[0mpartial_fit\u001B[0m\u001B[0;34m(\u001B[0m\u001B[0mX\u001B[0m\u001B[0;34m,\u001B[0m \u001B[0my\u001B[0m\u001B[0;34m)\u001B[0m\u001B[0;34m\u001B[0m\u001B[0;34m\u001B[0m\u001B[0m\n\u001B[0m\u001B[1;32m    337\u001B[0m \u001B[0;34m\u001B[0m\u001B[0m\n\u001B[1;32m    338\u001B[0m     \u001B[0;32mdef\u001B[0m \u001B[0mpartial_fit\u001B[0m\u001B[0;34m(\u001B[0m\u001B[0mself\u001B[0m\u001B[0;34m,\u001B[0m \u001B[0mX\u001B[0m\u001B[0;34m,\u001B[0m \u001B[0my\u001B[0m\u001B[0;34m=\u001B[0m\u001B[0;32mNone\u001B[0m\u001B[0;34m)\u001B[0m\u001B[0;34m:\u001B[0m\u001B[0;34m\u001B[0m\u001B[0;34m\u001B[0m\u001B[0m\n",
      "\u001B[0;32m~/PycharmProjects/AQI/venv/lib/python3.7/site-packages/sklearn/preprocessing/_data.py\u001B[0m in \u001B[0;36mpartial_fit\u001B[0;34m(self, X, y)\u001B[0m\n\u001B[1;32m    369\u001B[0m         X = self._validate_data(X, reset=first_pass,\n\u001B[1;32m    370\u001B[0m                                 \u001B[0mestimator\u001B[0m\u001B[0;34m=\u001B[0m\u001B[0mself\u001B[0m\u001B[0;34m,\u001B[0m \u001B[0mdtype\u001B[0m\u001B[0;34m=\u001B[0m\u001B[0mFLOAT_DTYPES\u001B[0m\u001B[0;34m,\u001B[0m\u001B[0;34m\u001B[0m\u001B[0;34m\u001B[0m\u001B[0m\n\u001B[0;32m--> 371\u001B[0;31m                                 force_all_finite=\"allow-nan\")\n\u001B[0m\u001B[1;32m    372\u001B[0m \u001B[0;34m\u001B[0m\u001B[0m\n\u001B[1;32m    373\u001B[0m         \u001B[0mdata_min\u001B[0m \u001B[0;34m=\u001B[0m \u001B[0mnp\u001B[0m\u001B[0;34m.\u001B[0m\u001B[0mnanmin\u001B[0m\u001B[0;34m(\u001B[0m\u001B[0mX\u001B[0m\u001B[0;34m,\u001B[0m \u001B[0maxis\u001B[0m\u001B[0;34m=\u001B[0m\u001B[0;36m0\u001B[0m\u001B[0;34m)\u001B[0m\u001B[0;34m\u001B[0m\u001B[0;34m\u001B[0m\u001B[0m\n",
      "\u001B[0;32m~/PycharmProjects/AQI/venv/lib/python3.7/site-packages/sklearn/base.py\u001B[0m in \u001B[0;36m_validate_data\u001B[0;34m(self, X, y, reset, validate_separately, **check_params)\u001B[0m\n\u001B[1;32m    418\u001B[0m                     \u001B[0;34mf\"requires y to be passed, but the target y is None.\"\u001B[0m\u001B[0;34m\u001B[0m\u001B[0;34m\u001B[0m\u001B[0m\n\u001B[1;32m    419\u001B[0m                 )\n\u001B[0;32m--> 420\u001B[0;31m             \u001B[0mX\u001B[0m \u001B[0;34m=\u001B[0m \u001B[0mcheck_array\u001B[0m\u001B[0;34m(\u001B[0m\u001B[0mX\u001B[0m\u001B[0;34m,\u001B[0m \u001B[0;34m**\u001B[0m\u001B[0mcheck_params\u001B[0m\u001B[0;34m)\u001B[0m\u001B[0;34m\u001B[0m\u001B[0;34m\u001B[0m\u001B[0m\n\u001B[0m\u001B[1;32m    421\u001B[0m             \u001B[0mout\u001B[0m \u001B[0;34m=\u001B[0m \u001B[0mX\u001B[0m\u001B[0;34m\u001B[0m\u001B[0;34m\u001B[0m\u001B[0m\n\u001B[1;32m    422\u001B[0m         \u001B[0;32melse\u001B[0m\u001B[0;34m:\u001B[0m\u001B[0;34m\u001B[0m\u001B[0;34m\u001B[0m\u001B[0m\n",
      "\u001B[0;32m~/PycharmProjects/AQI/venv/lib/python3.7/site-packages/sklearn/utils/validation.py\u001B[0m in \u001B[0;36minner_f\u001B[0;34m(*args, **kwargs)\u001B[0m\n\u001B[1;32m     71\u001B[0m                           FutureWarning)\n\u001B[1;32m     72\u001B[0m         \u001B[0mkwargs\u001B[0m\u001B[0;34m.\u001B[0m\u001B[0mupdate\u001B[0m\u001B[0;34m(\u001B[0m\u001B[0;34m{\u001B[0m\u001B[0mk\u001B[0m\u001B[0;34m:\u001B[0m \u001B[0marg\u001B[0m \u001B[0;32mfor\u001B[0m \u001B[0mk\u001B[0m\u001B[0;34m,\u001B[0m \u001B[0marg\u001B[0m \u001B[0;32min\u001B[0m \u001B[0mzip\u001B[0m\u001B[0;34m(\u001B[0m\u001B[0msig\u001B[0m\u001B[0;34m.\u001B[0m\u001B[0mparameters\u001B[0m\u001B[0;34m,\u001B[0m \u001B[0margs\u001B[0m\u001B[0;34m)\u001B[0m\u001B[0;34m}\u001B[0m\u001B[0;34m)\u001B[0m\u001B[0;34m\u001B[0m\u001B[0;34m\u001B[0m\u001B[0m\n\u001B[0;32m---> 73\u001B[0;31m         \u001B[0;32mreturn\u001B[0m \u001B[0mf\u001B[0m\u001B[0;34m(\u001B[0m\u001B[0;34m**\u001B[0m\u001B[0mkwargs\u001B[0m\u001B[0;34m)\u001B[0m\u001B[0;34m\u001B[0m\u001B[0;34m\u001B[0m\u001B[0m\n\u001B[0m\u001B[1;32m     74\u001B[0m     \u001B[0;32mreturn\u001B[0m \u001B[0minner_f\u001B[0m\u001B[0;34m\u001B[0m\u001B[0;34m\u001B[0m\u001B[0m\n\u001B[1;32m     75\u001B[0m \u001B[0;34m\u001B[0m\u001B[0m\n",
      "\u001B[0;32m~/PycharmProjects/AQI/venv/lib/python3.7/site-packages/sklearn/utils/validation.py\u001B[0m in \u001B[0;36mcheck_array\u001B[0;34m(array, accept_sparse, accept_large_sparse, dtype, order, copy, force_all_finite, ensure_2d, allow_nd, ensure_min_samples, ensure_min_features, estimator)\u001B[0m\n\u001B[1;32m    532\u001B[0m \u001B[0;34m\u001B[0m\u001B[0m\n\u001B[1;32m    533\u001B[0m         \u001B[0;32mif\u001B[0m \u001B[0mall\u001B[0m\u001B[0;34m(\u001B[0m\u001B[0misinstance\u001B[0m\u001B[0;34m(\u001B[0m\u001B[0mdtype\u001B[0m\u001B[0;34m,\u001B[0m \u001B[0mnp\u001B[0m\u001B[0;34m.\u001B[0m\u001B[0mdtype\u001B[0m\u001B[0;34m)\u001B[0m \u001B[0;32mfor\u001B[0m \u001B[0mdtype\u001B[0m \u001B[0;32min\u001B[0m \u001B[0mdtypes_orig\u001B[0m\u001B[0;34m)\u001B[0m\u001B[0;34m:\u001B[0m\u001B[0;34m\u001B[0m\u001B[0;34m\u001B[0m\u001B[0m\n\u001B[0;32m--> 534\u001B[0;31m             \u001B[0mdtype_orig\u001B[0m \u001B[0;34m=\u001B[0m \u001B[0mnp\u001B[0m\u001B[0;34m.\u001B[0m\u001B[0mresult_type\u001B[0m\u001B[0;34m(\u001B[0m\u001B[0;34m*\u001B[0m\u001B[0mdtypes_orig\u001B[0m\u001B[0;34m)\u001B[0m\u001B[0;34m\u001B[0m\u001B[0;34m\u001B[0m\u001B[0m\n\u001B[0m\u001B[1;32m    535\u001B[0m \u001B[0;34m\u001B[0m\u001B[0m\n\u001B[1;32m    536\u001B[0m     \u001B[0;32mif\u001B[0m \u001B[0mdtype_numeric\u001B[0m\u001B[0;34m:\u001B[0m\u001B[0;34m\u001B[0m\u001B[0;34m\u001B[0m\u001B[0m\n",
      "\u001B[0;32m<__array_function__ internals>\u001B[0m in \u001B[0;36mresult_type\u001B[0;34m(*args, **kwargs)\u001B[0m\n",
      "\u001B[0;31mValueError\u001B[0m: at least one array or dtype is required"
     ]
    }
   ],
   "source": [
    "PATH = './all_data.csv'\n",
    "aqi_data = pd.read_csv(PATH)\n",
    "aqi_data = aqi_data.drop(['Unnamed: 0', 'date'], axis=1)\n",
    "feature_columns = aqi_data.columns\n",
    "target_columns = ['PM2_5', 'PM_10', 'SO2', 'NO2', 'O3', 'CO']\n",
    "for pollutant in range(len(target_columns)):\n",
    "    for lag in range(1, 6):\n",
    "        aqi_data_supervised = series_to_supervised(aqi_data, 24, lag, True)\n",
    "        X = aqi_data_supervised[aqi_data_supervised.columns[0: feature_columns.__len__() * 24]]\n",
    "        aqi_data_y = series_to_supervised(aqi_data[target_columns], 24, lag, True)\n",
    "        y = aqi_data_y[aqi_data_y.columns[-6+pollutant:-5+pollutant]]\n",
    "        train_X, test_X, train_y, test_y = train_test_split(X, y, train_size=0.9, shuffle=False)\n",
    "        scaler_X = MinMaxScaler()\n",
    "        scaler_y = MinMaxScaler()\n",
    "        train_X = scaler_X.fit_transform(train_X)\n",
    "        test_X = scaler_X.transform(test_X)\n",
    "        train_y = scaler_y.fit_transform(train_y)\n",
    "        test_y = scaler_y.transform(test_y)\n",
    "        estimators = [ i for i in range(50, 101, 50)]\n",
    "        models1 = [('RandomForest %d' % estimator, RandomForestRegressor(n_estimators=estimator, n_jobs=5, random_state=1, max_depth=20)) for estimator in estimators]\n",
    "        models2 = [('GradientBoosting %d' % estimator, GradientBoostingRegressor(n_estimators=estimator, random_state=1, max_depth=20)) for estimator in estimators]\n",
    "        model3 = [('LinearRegression', LinearRegression(n_jobs=5))]\n",
    "        models4 = [('XGBoost %d' % estimator, xgb.XGBRegressor(n_jobs=5, n_estimators=estimator, random_state=1, max_depth=-1)) for estimator in estimators]\n",
    "        models = list(itertools.chain.from_iterable([model3]))\n",
    "        for model in models:\n",
    "            model[1].fit(train_X, np.ravel(train_y))\n",
    "        metric = pd.DataFrame(columns=['mse', 'mae', 'r2', 'mape'])\n",
    "        for model in models:\n",
    "            pred = model[1].predict(test_X)\n",
    "            pred = scaler_y.inverse_transform(pred.reshape(-1,1))\n",
    "            test_y = scaler_y.inverse_transform(test_y)\n",
    "            mse = ('mse', mean_squared_error(test_y, pred))\n",
    "            mae = ('mae', mean_absolute_error(test_y, pred))\n",
    "            mape = ('mape', mean_percent_error(pred, test_y))\n",
    "            r2 = ('r2', r2_score(test_y, pred))\n",
    "            for err in [mse , mae, mape, r2]:\n",
    "                metric.loc[model[0], err[0]] = err[1]\n",
    "            print(mse, mae, mape, r2, lag, target_columns[pollutant])\n",
    "    # metric.to_csv('./a.csv', sep=',', header=True, index=True)\n"
   ],
   "metadata": {
    "collapsed": false,
    "pycharm": {
     "name": "#%%\n"
    }
   }
  },
  {
   "cell_type": "code",
   "execution_count": 16,
   "outputs": [],
   "source": [
    "    scaler_X = MinMaxScaler()\n",
    "    scaler_y = MinMaxScaler()\n",
    "    train_X = scaler_X.fit_transform(train_X)\n",
    "    test_X = scaler_X.transform(test_X)\n",
    "    train_y = scaler_y.fit_transform(train_y)\n",
    "    test_y = scaler_y.transform(test_y)"
   ],
   "metadata": {
    "collapsed": false,
    "pycharm": {
     "name": "#%%\n"
    }
   }
  },
  {
   "cell_type": "code",
   "execution_count": 17,
   "outputs": [],
   "source": [
    "    estimators = [ i for i in range(50, 101, 50)]\n",
    "    models1 = [('RandomForest %d' % estimator, RandomForestRegressor(n_estimators=estimator, n_jobs=5, random_state=1, max_depth=20)) for estimator in estimators]\n",
    "    models2 = [('GradientBoosting %d' % estimator, GradientBoostingRegressor(n_estimators=estimator, random_state=1, max_depth=20)) for estimator in estimators]\n",
    "    model3 = [('LinearRegression', LinearRegression(n_jobs=5))]\n",
    "    models4 = [('XGBoost %d' % estimator, xgb.XGBRegressor(n_jobs=5, n_estimators=estimator, random_state=1, max_depth=-1)) for estimator in estimators]\n",
    "    models = list(itertools.chain.from_iterable([model3]))\n",
    "    for model in models:\n",
    "        model[1].fit(train_X, np.ravel(train_y))"
   ],
   "metadata": {
    "collapsed": false,
    "pycharm": {
     "name": "#%%\n"
    }
   }
  },
  {
   "cell_type": "code",
   "execution_count": 14,
   "outputs": [],
   "source": [
    "    metric = pd.DataFrame(columns=['mse', 'mae', 'r2', 'mape'])\n",
    "    for model in models:\n",
    "        pred = model[1].predict(test_X)\n",
    "        pred = scaler_y.inverse_transform(pred.reshape(-1,1))\n",
    "        test_y = scaler_y.inverse_transform(test_y)\n",
    "        mse = ('mse', mean_squared_error(test_y, pred))\n",
    "        mae = ('mae', mean_absolute_error(test_y, pred))\n",
    "        mape = ('mape', mean_percent_error(pred, test_y))\n",
    "        r2 = ('r2', r2_score(test_y, pred))\n",
    "        for err in [mse , mae, mape, r2]:\n",
    "            metric.loc[model[0], err[0]] = err[1]\n",
    "    metric.to_csv('./a.csv', sep=',', header=True, index=True)"
   ],
   "metadata": {
    "collapsed": false,
    "pycharm": {
     "name": "#%%\n"
    }
   }
  },
  {
   "cell_type": "code",
   "execution_count": null,
   "outputs": [],
   "source": [],
   "metadata": {
    "collapsed": false,
    "pycharm": {
     "name": "#%%"
    }
   }
  }
 ],
 "metadata": {
  "kernelspec": {
   "display_name": "Python 3",
   "language": "python",
   "name": "python3"
  },
  "language_info": {
   "codemirror_mode": {
    "name": "ipython",
    "version": 2
   },
   "file_extension": ".py",
   "mimetype": "text/x-python",
   "name": "python",
   "nbconvert_exporter": "python",
   "pygments_lexer": "ipython2",
   "version": "2.7.6"
  }
 },
 "nbformat": 4,
 "nbformat_minor": 0
}