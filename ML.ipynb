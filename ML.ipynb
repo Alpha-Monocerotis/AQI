{
 "cells": [
  {
   "cell_type": "code",
   "execution_count": 1,
   "metadata": {
    "collapsed": true
   },
   "outputs": [],
   "source": [
    "import pandas as pd\n",
    "import numpy as np\n",
    "from sklearn.metrics import mean_absolute_error, mean_squared_error, r2_score\n",
    "from sklearn.model_selection import train_test_split\n",
    "from sklearn.preprocessing import MinMaxScaler\n",
    "from sklearn.ensemble import GradientBoostingRegressor, RandomForestRegressor\n",
    "from sklearn.linear_model import LinearRegression, LogisticRegression, LogisticRegressionCV\n",
    "from pandas import DataFrame\n",
    "from pandas import concat\n",
    "import itertools\n",
    "import xgboost as xgb"
   ]
  },
  {
   "cell_type": "code",
   "execution_count": 2,
   "outputs": [],
   "source": [
    "def series_to_supervised(data, n_in=1, n_out=1, dropnan=True):\n",
    "    n_vars = 1 if type(data) is list else data.shape[1]\n",
    "    df = DataFrame(data)\n",
    "    cols, names = [], []\n",
    "    for i in range(n_in, 0, -1):\n",
    "        cols.append(df.shift(i))\n",
    "        names += [('var%d(t-%d)' % (j + 1, i)) for j in range(n_vars)]\n",
    "    for i in range(0, n_out):\n",
    "        cols.append(df.shift(-i))\n",
    "        if i == 0:\n",
    "            names += [('var%d(t)' % (j + 1)) for j in range(n_vars)]\n",
    "        else:\n",
    "            names += [('var%d(t+%d)' % (j + 1, i)) for j in range(n_vars)]\n",
    "    agg = concat(cols, axis=1)\n",
    "    agg.columns = names\n",
    "    if dropnan:\n",
    "        agg.dropna(inplace=True)\n",
    "    return agg\n",
    "\n",
    "def mean_percent_error(y_pred, y_true):\n",
    "    return np.sum(np.abs(y_pred - y_true) / y_true) / y_true.shape[0]"
   ],
   "metadata": {
    "collapsed": false,
    "pycharm": {
     "name": "#%%\n"
    }
   }
  },
  {
   "cell_type": "code",
   "execution_count": 3,
   "outputs": [],
   "source": [
    "PATH = './all_data.csv'\n",
    "aqi_data = pd.read_csv(PATH)\n",
    "aqi_data = aqi_data.drop(['Unnamed: 0', 'date'], axis=1)\n",
    "feature_columns = aqi_data.columns\n",
    "target_columns = ['PM2_5', 'PM_10', 'SO2', 'NO2', 'O3', 'CO']\n",
    "aqi_data_supervised = series_to_supervised(aqi_data, 24, 1, True)\n",
    "X = aqi_data_supervised[aqi_data_supervised.columns[0: feature_columns.__len__() * 24]]\n",
    "aqi_data_y = series_to_supervised(aqi_data[target_columns], 24, 1, True)\n",
    "y = aqi_data_y[aqi_data_y.columns[-6:-5]]\n",
    "train_X, test_X, train_y, test_y = train_test_split(X, y, train_size=0.9, shuffle=True)\n",
    "\n"
   ],
   "metadata": {
    "collapsed": false,
    "pycharm": {
     "name": "#%%\n"
    }
   }
  },
  {
   "cell_type": "code",
   "execution_count": 4,
   "outputs": [],
   "source": [
    "scaler_X = MinMaxScaler()\n",
    "scaler_y = MinMaxScaler()\n",
    "train_X = scaler_X.fit_transform(train_X)\n",
    "test_X = scaler_X.transform(test_X)\n",
    "train_y = scaler_y.fit_transform(train_y)\n",
    "test_y = scaler_y.transform(test_y)"
   ],
   "metadata": {
    "collapsed": false,
    "pycharm": {
     "name": "#%%\n"
    }
   }
  },
  {
   "cell_type": "code",
   "execution_count": 5,
   "outputs": [],
   "source": [
    "estimators = [ i for i in range(50, 101, 50)]\n",
    "models1 = [('RandomForest %d' % estimator, RandomForestRegressor(n_estimators=estimator, n_jobs=5, random_state=1, max_depth=20)) for estimator in estimators]\n",
    "models2 = [('GradientBoosting %d' % estimator, GradientBoostingRegressor(n_estimators=estimator, random_state=1, max_depth=20)) for estimator in estimators]\n",
    "model3 = [('LinearRegression', LinearRegression(n_jobs=5))]\n",
    "models4 = [('XGBoost %d' % estimator, xgb.XGBRegressor(n_jobs=5, n_estimators=estimator, random_state=1, max_depth=-1)) for estimator in estimators]\n",
    "models = list(itertools.chain.from_iterable([model3]))\n",
    "for model in models:\n",
    "    model[1].fit(train_X, np.ravel(train_y))"
   ],
   "metadata": {
    "collapsed": false,
    "pycharm": {
     "name": "#%%\n"
    }
   }
  },
  {
   "cell_type": "code",
   "execution_count": 6,
   "outputs": [],
   "source": [
    "metric = pd.DataFrame(columns=['mse', 'mae', 'r2', 'mape'])\n",
    "for model in models:\n",
    "    pred = model[1].predict(test_X)\n",
    "    pred = scaler_y.inverse_transform(pred.reshape(-1,1))\n",
    "    test_y = scaler_y.inverse_transform(test_y)\n",
    "    mse = ('mse', mean_squared_error(test_y, pred))\n",
    "    mae = ('mae', mean_absolute_error(test_y, pred))\n",
    "    mape = ('mape', mean_percent_error(pred, test_y))\n",
    "    r2 = ('r2', r2_score(test_y, pred))\n",
    "    for err in [mse , mae, mape, r2]:\n",
    "        metric.loc[model[0], err[0]] = err[1]\n",
    "metric.to_csv('./a.csv', sep=',', header=True, index=True)"
   ],
   "metadata": {
    "collapsed": false,
    "pycharm": {
     "name": "#%%\n"
    }
   }
  },
  {
   "cell_type": "code",
   "execution_count": null,
   "outputs": [],
   "source": [],
   "metadata": {
    "collapsed": false,
    "pycharm": {
     "name": "#%%"
    }
   }
  }
 ],
 "metadata": {
  "kernelspec": {
   "display_name": "Python 3",
   "language": "python",
   "name": "python3"
  },
  "language_info": {
   "codemirror_mode": {
    "name": "ipython",
    "version": 2
   },
   "file_extension": ".py",
   "mimetype": "text/x-python",
   "name": "python",
   "nbconvert_exporter": "python",
   "pygments_lexer": "ipython2",
   "version": "2.7.6"
  }
 },
 "nbformat": 4,
 "nbformat_minor": 0
}