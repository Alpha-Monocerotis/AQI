{
 "cells": [
  {
   "cell_type": "code",
   "execution_count": 2,
   "metadata": {
    "collapsed": true
   },
   "outputs": [],
   "source": [
    "import pandas as pd\n",
    "import numpy as np\n",
    "from sklearn.metrics import mean_absolute_error, mean_squared_error, r2_score\n",
    "from sklearn.model_selection import train_test_split\n",
    "from sklearn.preprocessing import MinMaxScaler\n",
    "from sklearn.ensemble import GradientBoostingRegressor, RandomForestRegressor\n",
    "from sklearn.linear_model import LinearRegression, LogisticRegression, LogisticRegressionCV\n",
    "from pandas import DataFrame\n",
    "from pandas import concat\n",
    "import itertools\n",
    "\n"
   ]
  },
  {
   "cell_type": "code",
   "execution_count": 39,
   "outputs": [],
   "source": [
    "estimators = [ i for i in range(50, 501, 50)]\n",
    "models1 = [('RandomForest %d' % estimator, RandomForestRegressor(n_estimators=estimator, n_jobs=5, random_state=1, max_depth=20)) for estimator in estimators]\n",
    "models2 = [('GradientBoosting %d' % estimator, GradientBoostingRegressor(n_estimators=estimator, random_state=1, max_depth=20)) for estimator in estimators]\n",
    "model3 = [('LinearRegression', LinearRegression(n_jobs=5))]\n",
    "\n",
    "models = list(itertools.chain.from_iterable([model3, models2, models1]))\n"
   ],
   "metadata": {
    "collapsed": false,
    "pycharm": {
     "name": "#%%%\n"
    }
   }
  },
  {
   "cell_type": "code",
   "execution_count": 4,
   "outputs": [],
   "source": [
    "def series_to_supervised(data, n_in=1, n_out=1, dropnan=True):\n",
    "    n_vars = 1 if type(data) is list else data.shape[1]\n",
    "    df = DataFrame(data)\n",
    "    cols, names = [], []\n",
    "    for i in range(n_in, 0, -1):\n",
    "        cols.append(df.shift(i))\n",
    "        names += [('var%d(t-%d)' % (j + 1, i)) for j in range(n_vars)]\n",
    "    for i in range(0, n_out):\n",
    "        cols.append(df.shift(-i))\n",
    "        if i == 0:\n",
    "            names += [('var%d(t)' % (j + 1)) for j in range(n_vars)]\n",
    "        else:\n",
    "            names += [('var%d(t+%d)' % (j + 1, i)) for j in range(n_vars)]\n",
    "    agg = concat(cols, axis=1)\n",
    "    agg.columns = names\n",
    "    if dropnan:\n",
    "        agg.dropna(inplace=True)\n",
    "    return agg"
   ],
   "metadata": {
    "collapsed": false,
    "pycharm": {
     "name": "#%%\n"
    }
   }
  },
  {
   "cell_type": "code",
   "execution_count": 32,
   "outputs": [],
   "source": [
    "PATH = './all_data.csv'\n",
    "aqi_data = pd.read_csv(PATH)\n",
    "aqi_data = aqi_data.drop(['Unnamed: 0', 'date'], axis=1)\n",
    "feature_columns = aqi_data.columns\n",
    "target_columns = ['AQI', 'PM2_5', 'PM_10', 'SO2', 'NO2', 'O3', 'CO']\n",
    "aqi_data_supervised = series_to_supervised(aqi_data, 12, 12, True)\n",
    "X = aqi_data_supervised[aqi_data_supervised.columns[0: feature_columns.__len__() * 12]]\n",
    "aqi_data_y = series_to_supervised(aqi_data[target_columns], 12, 12, True)\n",
    "y = aqi_data_y[aqi_data_y.columns[target_columns.__len__() * 18:target_columns.__len__() * 18 + 1]]\n",
    "train_X, test_X, train_y, test_y = train_test_split(X, y, train_size=0.9, shuffle=False)\n",
    "\n"
   ],
   "metadata": {
    "collapsed": false,
    "pycharm": {
     "name": "#%%\n"
    }
   }
  },
  {
   "cell_type": "code",
   "execution_count": null,
   "outputs": [
    {
     "name": "stdout",
     "output_type": "stream",
     "text": [
      "LinearRegression MSE: 1310.6495147230182\n",
      "LinearRegression MAE: 23.81295049913306\n"
     ]
    }
   ],
   "source": [
    "# scaler_X = MinMaxScaler()\n",
    "# scaler_y = MinMaxScaler()\n",
    "# train_X = scaler_X.fit_transform(train_X)\n",
    "# test_X = scaler_X.transform(test_X)\n",
    "# train_y = scaler_y.fit_transform(train_y)\n",
    "for model in models:\n",
    "    model[1].fit(train_X, np.ravel(train_y))\n",
    "    pred = model[1].predict(test_X)\n",
    "    print(model[0] + ' MSE: ' + str(mean_squared_error(pred.reshape(-1, 1), test_y)))\n",
    "    print(model[0] + ' MAE: ' + str(mean_absolute_error(pred.reshape(-1, 1), test_y)))\n",
    "    # print(model[0] + ' MSE: ' + str(mean_squared_error(scaler_y.inverse_transform(pred.reshape(-1, 1)), test_y)))\n",
    "    # print(model[0] + ' MAE: ' + str(mean_absolute_error(scaler_y.inverse_transform(pred.reshape(-1, 1)), test_y)))"
   ],
   "metadata": {
    "collapsed": false,
    "pycharm": {
     "name": "#%%\n",
     "is_executing": true
    }
   }
  },
  {
   "cell_type": "code",
   "execution_count": 15,
   "outputs": [
    {
     "name": "stdout",
     "output_type": "stream",
     "text": [
      "RandomForest MSE: 1196.7666240725994\n"
     ]
    }
   ],
   "source": [],
   "metadata": {
    "collapsed": false,
    "pycharm": {
     "name": "#%%\n"
    }
   }
  },
  {
   "cell_type": "code",
   "execution_count": null,
   "outputs": [],
   "source": [
    "\n"
   ],
   "metadata": {
    "collapsed": false,
    "pycharm": {
     "name": "#%%\n"
    }
   }
  }
 ],
 "metadata": {
  "kernelspec": {
   "display_name": "Python 3",
   "language": "python",
   "name": "python3"
  },
  "language_info": {
   "codemirror_mode": {
    "name": "ipython",
    "version": 2
   },
   "file_extension": ".py",
   "mimetype": "text/x-python",
   "name": "python",
   "nbconvert_exporter": "python",
   "pygments_lexer": "ipython2",
   "version": "2.7.6"
  }
 },
 "nbformat": 4,
 "nbformat_minor": 0
}