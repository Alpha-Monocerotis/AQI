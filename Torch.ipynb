{
 "cells": [
  {
   "cell_type": "code",
   "execution_count": 1,
   "metadata": {
    "collapsed": true
   },
   "outputs": [],
   "source": [
    "import pandas as pd\n",
    "import numpy as np\n",
    "from sklearn.model_selection import train_test_split\n",
    "from sklearn.preprocessing import MinMaxScaler\n",
    "from sklearn.ensemble import GradientBoostingRegressor, RandomForestRegressor\n",
    "from sklearn.linear_model import LinearRegression\n",
    "from pandas import DataFrame\n",
    "from pandas import concat\n",
    "import torch.nn as nn\n",
    "import torch\n",
    "import torch.optim as optim\n",
    "\n",
    "np.set_printoptions(suppress=True)"
   ]
  },
  {
   "cell_type": "code",
   "execution_count": 2,
   "outputs": [],
   "source": [
    "class My_loss(nn.Module):\n",
    "    def __init__(self):\n",
    "        super().__init__()\n",
    "\n",
    "    def forward(self, x, y):\n",
    "        return torch.mean(torch.pow((x - y), 2))"
   ],
   "metadata": {
    "collapsed": false,
    "pycharm": {
     "name": "#%%\n"
    }
   }
  },
  {
   "cell_type": "code",
   "execution_count": null,
   "outputs": [],
   "source": [
    "class AQINet(nn.Module):\n",
    "\n",
    "    def __init__(self, n_features, time_steps, n_outputs):\n",
    "        super(AQINet, self).__init__()\n",
    "        self.n_features = n_features\n",
    "        self.time_steps = time_steps\n",
    "        self.n_outputs = n_outputs\n",
    "\n",
    "        self.lstm1 = nn.LSTM(input_size=n_features, hidden_size=64, num_layers=6, batch_first=True)\n",
    "        self.dense1 = nn.Linear(64 * 12, 128)\n",
    "        self.dense2 = nn.Linear(128, 512)\n",
    "        self.dense3 = nn.Linear(512, 1024)\n",
    "        self.dense4 = nn.Linear(1024, 2048)\n",
    "        self.dense5 = nn.Linear(2048, 4096)\n",
    "        self.dense6 = nn.Linear(4096, 2048)\n",
    "        self.dense7 = nn.Linear(2048, 512)\n",
    "        self.dense8 = nn.Linear(512, 1024)\n",
    "        self.lstm2 = nn.LSTM(input_size=1024, hidden_size=n_outputs, num_layers=8)\n",
    "\n",
    "    def forward(self, X):\n",
    "        x, (h, c) = self.lstm1(X)\n",
    "        x = torch.flatten(x, 1, 2)\n",
    "        x = self.dense1(x)\n",
    "        x = self.dense2(x)\n",
    "        x = self.dense3(x)\n",
    "        x = nn.Tanh()(x)\n",
    "        x = self.dense4(x)\n",
    "        x = self.dense5(x)\n",
    "        x = self.dense6(x)\n",
    "        x = nn.Tanh()(x)\n",
    "        x = self.dense7(x)\n",
    "        x = self.dense8(x)\n",
    "        x = torch.reshape(x, (-1, 1, 1024))\n",
    "        out, (h1, c1) = self.lstm2(x)\n",
    "        return out"
   ],
   "metadata": {
    "collapsed": false,
    "pycharm": {
     "name": "#%%\n"
    }
   }
  },
  {
   "cell_type": "code",
   "execution_count": null,
   "outputs": [],
   "source": [
    "class AQINet2(nn.Module):\n",
    "\n",
    "    def __init__(self, n_features, time_steps, n_outputs):\n",
    "        super(AQINet2, self).__init__()\n",
    "        self.n_features = n_features\n",
    "        self.time_steps = time_steps\n",
    "        self.n_outputs = n_outputs\n",
    "        self.lstm1 = nn.LSTM(input_size=n_features, hidden_size=256, num_layers=6, batch_first=True)\n",
    "        self.fc1 = nn.Linear(256 * 12, 512)\n",
    "        self.drop1 = nn.Dropout(0.5)\n",
    "        self.fc2 = nn.Linear(512, 64)\n",
    "        self.active1 = nn.LeakyReLU()\n",
    "        self.fc3 = nn.Linear(64, 200)\n",
    "        self.fc4 = nn.Linear(200, 1)\n",
    "        self.active2 = nn.ELU()\n",
    "\n",
    "    def forward(self, X):\n",
    "        x, (h, c) = self.lstm1(X)\n",
    "        x = torch.flatten(x, start_dim=1, end_dim=-1)\n",
    "        x = self.fc1(x)\n",
    "        x = self.drop1(x)\n",
    "        x = self.fc2(x)\n",
    "        x = self.active1(x)\n",
    "        x = self.fc3(x)\n",
    "        x = self.fc4(x)\n",
    "        x = self.active2(x)\n",
    "        # print(x.shape)\n",
    "        return x"
   ],
   "metadata": {
    "collapsed": false,
    "pycharm": {
     "name": "#%%\n"
    }
   }
  },
  {
   "cell_type": "code",
   "execution_count": 9,
   "outputs": [],
   "source": [
    "class LSTMFcLinear(nn.Module):\n",
    "\n",
    "    def __init__(self, time_steps, n_features):\n",
    "        super(LSTMFcLinear, self).__init__()\n",
    "        self.time_steps = time_steps\n",
    "        self.n_features = n_features\n",
    "        self.lstm = nn.LSTM(input_size=n_features, hidden_size=1, num_layers=6, batch_first=True)\n",
    "        self.fc1 = nn.Linear(n_features * time_steps, 256)\n",
    "        self.fc2 = nn.Linear(256, 512)\n",
    "        self.fc3 = nn.Linear(512, 1024)\n",
    "        self.fc4 = nn.Linear(1024, 2048)\n",
    "        self.fc5 = nn.Linear(2048, 512)\n",
    "        self.fc6 = nn.Linear(512, 256)\n",
    "        self.fc7 = nn.Linear(256, 1)\n",
    "        self.combine_fc = nn.Linear(2, 1)\n",
    "\n",
    "    def forward(self, x):\n",
    "        lstm_output, (h, c) = self.lstm(x)\n",
    "        x = torch.reshape(x, (-1, self.time_steps * self.n_features))\n",
    "        fc_output = self.fc1(x)\n",
    "        fc_output = self.fc2(fc_output)\n",
    "        fc_output = nn.ReLU()(fc_output)\n",
    "        fc_output = nn.Dropout(0.5)(fc_output)\n",
    "        fc_output = self.fc3(fc_output)\n",
    "        fc_output = nn.ReLU()(fc_output)\n",
    "        fc_output = self.fc4(fc_output)\n",
    "        fc_output = nn.ReLU()(fc_output)\n",
    "        fc_output = self.fc6(fc_output)\n",
    "        fc_output = self.fc7(fc_output)\n",
    "        print(fc_output.shape, lstm_output.shape)\n",
    "        raise ValueError(\"123\")\n"
   ],
   "metadata": {
    "collapsed": false,
    "pycharm": {
     "name": "#%%\n"
    }
   }
  },
  {
   "cell_type": "code",
   "execution_count": null,
   "outputs": [],
   "source": [
    "class Seq2Seq(nn.Module):\n",
    "\n",
    "    def __init__(self, input_size, output_size):\n",
    "        super(Seq2Seq, self).__init__()\n",
    "        self.input_size = input_size\n",
    "        self.output_size = output_size\n",
    "\n",
    "        self.encoder = nn.LSTM(input_size=input_size, hidden_size=64, num_layers=6, batch_first=True)\n",
    "        self.decoder = nn.LSTM(input_size=output_size, hidden_size=64)\n",
    "\n"
   ],
   "metadata": {
    "collapsed": false,
    "pycharm": {
     "name": "#%%\n"
    }
   }
  },
  {
   "cell_type": "code",
   "execution_count": 4,
   "outputs": [],
   "source": [
    "def train(model, epochs, train_X, train_y, batch_size):\n",
    "    criterion = My_loss()\n",
    "    optimizer = optim.Adam(model.parameters(), lr=0.01)\n",
    "    for epoch in range(epochs):\n",
    "        step = 0\n",
    "        while step * batch_size < train_X.shape[0]:\n",
    "            end = train_X.shape[0]\n",
    "            if (step + 1) * batch_size < train_X.shape[0]:\n",
    "                end = (step + 1) * batch_size\n",
    "            x = train_X[step * batch_size: end]\n",
    "            y = train_y[step * batch_size: end]\n",
    "            optimizer.zero_grad()\n",
    "            out = model.forward(x)\n",
    "            # print(out.shape, y.shape)\n",
    "            # raise AttributeError(\"break\")\n",
    "            loss = criterion(out, y)\n",
    "            loss.backward()\n",
    "            optimizer.step()\n",
    "            step += 1\n",
    "            if step % 2 == 0:\n",
    "                print('epoch ' + str(epoch) + ' loss: %f' % loss.item())\n",
    "    return model"
   ],
   "metadata": {
    "collapsed": false,
    "pycharm": {
     "name": "#%%\n"
    }
   }
  },
  {
   "cell_type": "code",
   "execution_count": 5,
   "outputs": [],
   "source": [
    "def series_to_supervised(data, n_in=1, n_out=1, dropnan=True):\n",
    "    n_vars = 1 if type(data) is list else data.shape[1]\n",
    "    df = DataFrame(data)\n",
    "    cols, names = [], []\n",
    "    for i in range(n_in, 0, -1):\n",
    "        cols.append(df.shift(i))\n",
    "        names += [('var%d(t-%d)' % (j + 1, i)) for j in range(n_vars)]\n",
    "    for i in range(0, n_out):\n",
    "        cols.append(df.shift(-i))\n",
    "        if i == 0:\n",
    "            names += [('var%d(t)' % (j + 1)) for j in range(n_vars)]\n",
    "        else:\n",
    "            names += [('var%d(t+%d)' % (j + 1, i)) for j in range(n_vars)]\n",
    "    agg = concat(cols, axis=1)\n",
    "    agg.columns = names\n",
    "    if dropnan:\n",
    "        agg.dropna(inplace=True)\n",
    "    return agg"
   ],
   "metadata": {
    "collapsed": false,
    "pycharm": {
     "name": "#%%\n"
    }
   }
  },
  {
   "cell_type": "code",
   "execution_count": 10,
   "outputs": [
    {
     "ename": "MemoryError",
     "evalue": "Unable to allocate 160. MiB for an array with shape (480, 43800) and data type float64",
     "output_type": "error",
     "traceback": [
      "\u001B[0;31m---------------------------------------------------------------------------\u001B[0m",
      "\u001B[0;31mMemoryError\u001B[0m                               Traceback (most recent call last)",
      "\u001B[0;32m<ipython-input-10-a8738d76a3d7>\u001B[0m in \u001B[0;36m<module>\u001B[0;34m\u001B[0m\n\u001B[1;32m      5\u001B[0m     \u001B[0mfeature_columns\u001B[0m \u001B[0;34m=\u001B[0m \u001B[0maqi_data\u001B[0m\u001B[0;34m.\u001B[0m\u001B[0mcolumns\u001B[0m\u001B[0;34m\u001B[0m\u001B[0;34m\u001B[0m\u001B[0m\n\u001B[1;32m      6\u001B[0m     \u001B[0mtarget_columns\u001B[0m \u001B[0;34m=\u001B[0m \u001B[0;34m[\u001B[0m\u001B[0;34m'AQI'\u001B[0m\u001B[0;34m,\u001B[0m \u001B[0;34m'PM2_5'\u001B[0m\u001B[0;34m,\u001B[0m \u001B[0;34m'PM_10'\u001B[0m\u001B[0;34m,\u001B[0m \u001B[0;34m'SO2'\u001B[0m\u001B[0;34m,\u001B[0m \u001B[0;34m'NO2'\u001B[0m\u001B[0;34m,\u001B[0m \u001B[0;34m'O3'\u001B[0m\u001B[0;34m,\u001B[0m \u001B[0;34m'CO'\u001B[0m\u001B[0;34m]\u001B[0m\u001B[0;34m\u001B[0m\u001B[0;34m\u001B[0m\u001B[0m\n\u001B[0;32m----> 7\u001B[0;31m     \u001B[0maqi_data_supervised\u001B[0m \u001B[0;34m=\u001B[0m \u001B[0mseries_to_supervised\u001B[0m\u001B[0;34m(\u001B[0m\u001B[0maqi_data\u001B[0m\u001B[0;34m,\u001B[0m \u001B[0;36m12\u001B[0m\u001B[0;34m,\u001B[0m \u001B[0;36m12\u001B[0m\u001B[0;34m,\u001B[0m \u001B[0;32mTrue\u001B[0m\u001B[0;34m)\u001B[0m\u001B[0;34m\u001B[0m\u001B[0;34m\u001B[0m\u001B[0m\n\u001B[0m\u001B[1;32m      8\u001B[0m     \u001B[0mX\u001B[0m \u001B[0;34m=\u001B[0m \u001B[0maqi_data_supervised\u001B[0m\u001B[0;34m[\u001B[0m\u001B[0maqi_data_supervised\u001B[0m\u001B[0;34m.\u001B[0m\u001B[0mcolumns\u001B[0m\u001B[0;34m[\u001B[0m\u001B[0;36m0\u001B[0m\u001B[0;34m:\u001B[0m \u001B[0mfeature_columns\u001B[0m\u001B[0;34m.\u001B[0m\u001B[0m__len__\u001B[0m\u001B[0;34m(\u001B[0m\u001B[0;34m)\u001B[0m \u001B[0;34m*\u001B[0m \u001B[0;36m12\u001B[0m\u001B[0;34m]\u001B[0m\u001B[0;34m]\u001B[0m\u001B[0;34m\u001B[0m\u001B[0;34m\u001B[0m\u001B[0m\n\u001B[1;32m      9\u001B[0m     \u001B[0maqi_data_y\u001B[0m \u001B[0;34m=\u001B[0m \u001B[0mseries_to_supervised\u001B[0m\u001B[0;34m(\u001B[0m\u001B[0maqi_data\u001B[0m\u001B[0;34m[\u001B[0m\u001B[0mtarget_columns\u001B[0m\u001B[0;34m]\u001B[0m\u001B[0;34m,\u001B[0m \u001B[0;36m12\u001B[0m\u001B[0;34m,\u001B[0m \u001B[0;36m12\u001B[0m\u001B[0;34m,\u001B[0m \u001B[0;32mTrue\u001B[0m\u001B[0;34m)\u001B[0m\u001B[0;34m\u001B[0m\u001B[0;34m\u001B[0m\u001B[0m\n",
      "\u001B[0;32m<ipython-input-5-025b859ed89e>\u001B[0m in \u001B[0;36mseries_to_supervised\u001B[0;34m(data, n_in, n_out, dropnan)\u001B[0m\n\u001B[1;32m     15\u001B[0m     \u001B[0magg\u001B[0m\u001B[0;34m.\u001B[0m\u001B[0mcolumns\u001B[0m \u001B[0;34m=\u001B[0m \u001B[0mnames\u001B[0m\u001B[0;34m\u001B[0m\u001B[0;34m\u001B[0m\u001B[0m\n\u001B[1;32m     16\u001B[0m     \u001B[0;32mif\u001B[0m \u001B[0mdropnan\u001B[0m\u001B[0;34m:\u001B[0m\u001B[0;34m\u001B[0m\u001B[0;34m\u001B[0m\u001B[0m\n\u001B[0;32m---> 17\u001B[0;31m         \u001B[0magg\u001B[0m\u001B[0;34m.\u001B[0m\u001B[0mdropna\u001B[0m\u001B[0;34m(\u001B[0m\u001B[0minplace\u001B[0m\u001B[0;34m=\u001B[0m\u001B[0;32mTrue\u001B[0m\u001B[0;34m)\u001B[0m\u001B[0;34m\u001B[0m\u001B[0;34m\u001B[0m\u001B[0m\n\u001B[0m\u001B[1;32m     18\u001B[0m     \u001B[0;32mreturn\u001B[0m \u001B[0magg\u001B[0m\u001B[0;34m\u001B[0m\u001B[0;34m\u001B[0m\u001B[0m\n\u001B[1;32m     19\u001B[0m \u001B[0;34m\u001B[0m\u001B[0m\n",
      "\u001B[0;32m~/PycharmProjects/AQI/venv/lib/python3.7/site-packages/pandas/core/frame.py\u001B[0m in \u001B[0;36mdropna\u001B[0;34m(self, axis, how, thresh, subset, inplace)\u001B[0m\n\u001B[1;32m   4749\u001B[0m             \u001B[0magg_obj\u001B[0m \u001B[0;34m=\u001B[0m \u001B[0mself\u001B[0m\u001B[0;34m.\u001B[0m\u001B[0mtake\u001B[0m\u001B[0;34m(\u001B[0m\u001B[0mindices\u001B[0m\u001B[0;34m,\u001B[0m \u001B[0maxis\u001B[0m\u001B[0;34m=\u001B[0m\u001B[0magg_axis\u001B[0m\u001B[0;34m)\u001B[0m\u001B[0;34m\u001B[0m\u001B[0;34m\u001B[0m\u001B[0m\n\u001B[1;32m   4750\u001B[0m \u001B[0;34m\u001B[0m\u001B[0m\n\u001B[0;32m-> 4751\u001B[0;31m         \u001B[0mcount\u001B[0m \u001B[0;34m=\u001B[0m \u001B[0magg_obj\u001B[0m\u001B[0;34m.\u001B[0m\u001B[0mcount\u001B[0m\u001B[0;34m(\u001B[0m\u001B[0maxis\u001B[0m\u001B[0;34m=\u001B[0m\u001B[0magg_axis\u001B[0m\u001B[0;34m)\u001B[0m\u001B[0;34m\u001B[0m\u001B[0;34m\u001B[0m\u001B[0m\n\u001B[0m\u001B[1;32m   4752\u001B[0m \u001B[0;34m\u001B[0m\u001B[0m\n\u001B[1;32m   4753\u001B[0m         \u001B[0;32mif\u001B[0m \u001B[0mthresh\u001B[0m \u001B[0;32mis\u001B[0m \u001B[0;32mnot\u001B[0m \u001B[0;32mNone\u001B[0m\u001B[0;34m:\u001B[0m\u001B[0;34m\u001B[0m\u001B[0;34m\u001B[0m\u001B[0m\n",
      "\u001B[0;32m~/PycharmProjects/AQI/venv/lib/python3.7/site-packages/pandas/core/frame.py\u001B[0m in \u001B[0;36mcount\u001B[0;34m(self, axis, level, numeric_only)\u001B[0m\n\u001B[1;32m   7795\u001B[0m             \u001B[0mresult\u001B[0m \u001B[0;34m=\u001B[0m \u001B[0mSeries\u001B[0m\u001B[0;34m(\u001B[0m\u001B[0;36m0\u001B[0m\u001B[0;34m,\u001B[0m \u001B[0mindex\u001B[0m\u001B[0;34m=\u001B[0m\u001B[0mframe\u001B[0m\u001B[0;34m.\u001B[0m\u001B[0m_get_agg_axis\u001B[0m\u001B[0;34m(\u001B[0m\u001B[0maxis\u001B[0m\u001B[0;34m)\u001B[0m\u001B[0;34m)\u001B[0m\u001B[0;34m\u001B[0m\u001B[0;34m\u001B[0m\u001B[0m\n\u001B[1;32m   7796\u001B[0m         \u001B[0;32melse\u001B[0m\u001B[0;34m:\u001B[0m\u001B[0;34m\u001B[0m\u001B[0;34m\u001B[0m\u001B[0m\n\u001B[0;32m-> 7797\u001B[0;31m             \u001B[0;32mif\u001B[0m \u001B[0mframe\u001B[0m\u001B[0;34m.\u001B[0m\u001B[0m_is_mixed_type\u001B[0m \u001B[0;32mor\u001B[0m \u001B[0mframe\u001B[0m\u001B[0;34m.\u001B[0m\u001B[0m_data\u001B[0m\u001B[0;34m.\u001B[0m\u001B[0many_extension_types\u001B[0m\u001B[0;34m:\u001B[0m\u001B[0;34m\u001B[0m\u001B[0;34m\u001B[0m\u001B[0m\n\u001B[0m\u001B[1;32m   7798\u001B[0m                 \u001B[0;31m# the or any_extension_types is really only hit for single-\u001B[0m\u001B[0;34m\u001B[0m\u001B[0;34m\u001B[0m\u001B[0;34m\u001B[0m\u001B[0m\n\u001B[1;32m   7799\u001B[0m                 \u001B[0;31m# column frames with an extension array\u001B[0m\u001B[0;34m\u001B[0m\u001B[0;34m\u001B[0m\u001B[0;34m\u001B[0m\u001B[0m\n",
      "\u001B[0;32m~/PycharmProjects/AQI/venv/lib/python3.7/site-packages/pandas/core/generic.py\u001B[0m in \u001B[0;36m_is_mixed_type\u001B[0;34m(self)\u001B[0m\n\u001B[1;32m   5372\u001B[0m     \u001B[0;32mdef\u001B[0m \u001B[0m_is_mixed_type\u001B[0m\u001B[0;34m(\u001B[0m\u001B[0mself\u001B[0m\u001B[0;34m)\u001B[0m\u001B[0;34m:\u001B[0m\u001B[0;34m\u001B[0m\u001B[0;34m\u001B[0m\u001B[0m\n\u001B[1;32m   5373\u001B[0m         \u001B[0mf\u001B[0m \u001B[0;34m=\u001B[0m \u001B[0;32mlambda\u001B[0m\u001B[0;34m:\u001B[0m \u001B[0mself\u001B[0m\u001B[0;34m.\u001B[0m\u001B[0m_data\u001B[0m\u001B[0;34m.\u001B[0m\u001B[0mis_mixed_type\u001B[0m\u001B[0;34m\u001B[0m\u001B[0;34m\u001B[0m\u001B[0m\n\u001B[0;32m-> 5374\u001B[0;31m         \u001B[0;32mreturn\u001B[0m \u001B[0mself\u001B[0m\u001B[0;34m.\u001B[0m\u001B[0m_protect_consolidate\u001B[0m\u001B[0;34m(\u001B[0m\u001B[0mf\u001B[0m\u001B[0;34m)\u001B[0m\u001B[0;34m\u001B[0m\u001B[0;34m\u001B[0m\u001B[0m\n\u001B[0m\u001B[1;32m   5375\u001B[0m \u001B[0;34m\u001B[0m\u001B[0m\n\u001B[1;32m   5376\u001B[0m     \u001B[0;34m@\u001B[0m\u001B[0mproperty\u001B[0m\u001B[0;34m\u001B[0m\u001B[0;34m\u001B[0m\u001B[0m\n",
      "\u001B[0;32m~/PycharmProjects/AQI/venv/lib/python3.7/site-packages/pandas/core/generic.py\u001B[0m in \u001B[0;36m_protect_consolidate\u001B[0;34m(self, f)\u001B[0m\n\u001B[1;32m   5334\u001B[0m         \"\"\"\n\u001B[1;32m   5335\u001B[0m         \u001B[0mblocks_before\u001B[0m \u001B[0;34m=\u001B[0m \u001B[0mlen\u001B[0m\u001B[0;34m(\u001B[0m\u001B[0mself\u001B[0m\u001B[0;34m.\u001B[0m\u001B[0m_data\u001B[0m\u001B[0;34m.\u001B[0m\u001B[0mblocks\u001B[0m\u001B[0;34m)\u001B[0m\u001B[0;34m\u001B[0m\u001B[0;34m\u001B[0m\u001B[0m\n\u001B[0;32m-> 5336\u001B[0;31m         \u001B[0mresult\u001B[0m \u001B[0;34m=\u001B[0m \u001B[0mf\u001B[0m\u001B[0;34m(\u001B[0m\u001B[0;34m)\u001B[0m\u001B[0;34m\u001B[0m\u001B[0;34m\u001B[0m\u001B[0m\n\u001B[0m\u001B[1;32m   5337\u001B[0m         \u001B[0;32mif\u001B[0m \u001B[0mlen\u001B[0m\u001B[0;34m(\u001B[0m\u001B[0mself\u001B[0m\u001B[0;34m.\u001B[0m\u001B[0m_data\u001B[0m\u001B[0;34m.\u001B[0m\u001B[0mblocks\u001B[0m\u001B[0;34m)\u001B[0m \u001B[0;34m!=\u001B[0m \u001B[0mblocks_before\u001B[0m\u001B[0;34m:\u001B[0m\u001B[0;34m\u001B[0m\u001B[0;34m\u001B[0m\u001B[0m\n\u001B[1;32m   5338\u001B[0m             \u001B[0mself\u001B[0m\u001B[0;34m.\u001B[0m\u001B[0m_clear_item_cache\u001B[0m\u001B[0;34m(\u001B[0m\u001B[0;34m)\u001B[0m\u001B[0;34m\u001B[0m\u001B[0;34m\u001B[0m\u001B[0m\n",
      "\u001B[0;32m~/PycharmProjects/AQI/venv/lib/python3.7/site-packages/pandas/core/generic.py\u001B[0m in \u001B[0;36m<lambda>\u001B[0;34m()\u001B[0m\n\u001B[1;32m   5371\u001B[0m     \u001B[0;34m@\u001B[0m\u001B[0mproperty\u001B[0m\u001B[0;34m\u001B[0m\u001B[0;34m\u001B[0m\u001B[0m\n\u001B[1;32m   5372\u001B[0m     \u001B[0;32mdef\u001B[0m \u001B[0m_is_mixed_type\u001B[0m\u001B[0;34m(\u001B[0m\u001B[0mself\u001B[0m\u001B[0;34m)\u001B[0m\u001B[0;34m:\u001B[0m\u001B[0;34m\u001B[0m\u001B[0;34m\u001B[0m\u001B[0m\n\u001B[0;32m-> 5373\u001B[0;31m         \u001B[0mf\u001B[0m \u001B[0;34m=\u001B[0m \u001B[0;32mlambda\u001B[0m\u001B[0;34m:\u001B[0m \u001B[0mself\u001B[0m\u001B[0;34m.\u001B[0m\u001B[0m_data\u001B[0m\u001B[0;34m.\u001B[0m\u001B[0mis_mixed_type\u001B[0m\u001B[0;34m\u001B[0m\u001B[0;34m\u001B[0m\u001B[0m\n\u001B[0m\u001B[1;32m   5374\u001B[0m         \u001B[0;32mreturn\u001B[0m \u001B[0mself\u001B[0m\u001B[0;34m.\u001B[0m\u001B[0m_protect_consolidate\u001B[0m\u001B[0;34m(\u001B[0m\u001B[0mf\u001B[0m\u001B[0;34m)\u001B[0m\u001B[0;34m\u001B[0m\u001B[0;34m\u001B[0m\u001B[0m\n\u001B[1;32m   5375\u001B[0m \u001B[0;34m\u001B[0m\u001B[0m\n",
      "\u001B[0;32m~/PycharmProjects/AQI/venv/lib/python3.7/site-packages/pandas/core/internals/managers.py\u001B[0m in \u001B[0;36mis_mixed_type\u001B[0;34m(self)\u001B[0m\n\u001B[1;32m    661\u001B[0m     \u001B[0;32mdef\u001B[0m \u001B[0mis_mixed_type\u001B[0m\u001B[0;34m(\u001B[0m\u001B[0mself\u001B[0m\u001B[0;34m)\u001B[0m\u001B[0;34m:\u001B[0m\u001B[0;34m\u001B[0m\u001B[0;34m\u001B[0m\u001B[0m\n\u001B[1;32m    662\u001B[0m         \u001B[0;31m# Warning, consolidation needs to get checked upstairs\u001B[0m\u001B[0;34m\u001B[0m\u001B[0;34m\u001B[0m\u001B[0;34m\u001B[0m\u001B[0m\n\u001B[0;32m--> 663\u001B[0;31m         \u001B[0mself\u001B[0m\u001B[0;34m.\u001B[0m\u001B[0m_consolidate_inplace\u001B[0m\u001B[0;34m(\u001B[0m\u001B[0;34m)\u001B[0m\u001B[0;34m\u001B[0m\u001B[0;34m\u001B[0m\u001B[0m\n\u001B[0m\u001B[1;32m    664\u001B[0m         \u001B[0;32mreturn\u001B[0m \u001B[0mlen\u001B[0m\u001B[0;34m(\u001B[0m\u001B[0mself\u001B[0m\u001B[0;34m.\u001B[0m\u001B[0mblocks\u001B[0m\u001B[0;34m)\u001B[0m \u001B[0;34m>\u001B[0m \u001B[0;36m1\u001B[0m\u001B[0;34m\u001B[0m\u001B[0;34m\u001B[0m\u001B[0m\n\u001B[1;32m    665\u001B[0m \u001B[0;34m\u001B[0m\u001B[0m\n",
      "\u001B[0;32m~/PycharmProjects/AQI/venv/lib/python3.7/site-packages/pandas/core/internals/managers.py\u001B[0m in \u001B[0;36m_consolidate_inplace\u001B[0;34m(self)\u001B[0m\n\u001B[1;32m    943\u001B[0m     \u001B[0;32mdef\u001B[0m \u001B[0m_consolidate_inplace\u001B[0m\u001B[0;34m(\u001B[0m\u001B[0mself\u001B[0m\u001B[0;34m)\u001B[0m\u001B[0;34m:\u001B[0m\u001B[0;34m\u001B[0m\u001B[0;34m\u001B[0m\u001B[0m\n\u001B[1;32m    944\u001B[0m         \u001B[0;32mif\u001B[0m \u001B[0;32mnot\u001B[0m \u001B[0mself\u001B[0m\u001B[0;34m.\u001B[0m\u001B[0mis_consolidated\u001B[0m\u001B[0;34m(\u001B[0m\u001B[0;34m)\u001B[0m\u001B[0;34m:\u001B[0m\u001B[0;34m\u001B[0m\u001B[0;34m\u001B[0m\u001B[0m\n\u001B[0;32m--> 945\u001B[0;31m             \u001B[0mself\u001B[0m\u001B[0;34m.\u001B[0m\u001B[0mblocks\u001B[0m \u001B[0;34m=\u001B[0m \u001B[0mtuple\u001B[0m\u001B[0;34m(\u001B[0m\u001B[0m_consolidate\u001B[0m\u001B[0;34m(\u001B[0m\u001B[0mself\u001B[0m\u001B[0;34m.\u001B[0m\u001B[0mblocks\u001B[0m\u001B[0;34m)\u001B[0m\u001B[0;34m)\u001B[0m\u001B[0;34m\u001B[0m\u001B[0;34m\u001B[0m\u001B[0m\n\u001B[0m\u001B[1;32m    946\u001B[0m             \u001B[0mself\u001B[0m\u001B[0;34m.\u001B[0m\u001B[0m_is_consolidated\u001B[0m \u001B[0;34m=\u001B[0m \u001B[0;32mTrue\u001B[0m\u001B[0;34m\u001B[0m\u001B[0;34m\u001B[0m\u001B[0m\n\u001B[1;32m    947\u001B[0m             \u001B[0mself\u001B[0m\u001B[0;34m.\u001B[0m\u001B[0m_known_consolidated\u001B[0m \u001B[0;34m=\u001B[0m \u001B[0;32mTrue\u001B[0m\u001B[0;34m\u001B[0m\u001B[0;34m\u001B[0m\u001B[0m\n",
      "\u001B[0;32m~/PycharmProjects/AQI/venv/lib/python3.7/site-packages/pandas/core/internals/managers.py\u001B[0m in \u001B[0;36m_consolidate\u001B[0;34m(blocks)\u001B[0m\n\u001B[1;32m   1885\u001B[0m     \u001B[0;32mfor\u001B[0m \u001B[0;34m(\u001B[0m\u001B[0m_can_consolidate\u001B[0m\u001B[0;34m,\u001B[0m \u001B[0mdtype\u001B[0m\u001B[0;34m)\u001B[0m\u001B[0;34m,\u001B[0m \u001B[0mgroup_blocks\u001B[0m \u001B[0;32min\u001B[0m \u001B[0mgrouper\u001B[0m\u001B[0;34m:\u001B[0m\u001B[0;34m\u001B[0m\u001B[0;34m\u001B[0m\u001B[0m\n\u001B[1;32m   1886\u001B[0m         merged_blocks = _merge_blocks(\n\u001B[0;32m-> 1887\u001B[0;31m             \u001B[0mlist\u001B[0m\u001B[0;34m(\u001B[0m\u001B[0mgroup_blocks\u001B[0m\u001B[0;34m)\u001B[0m\u001B[0;34m,\u001B[0m \u001B[0mdtype\u001B[0m\u001B[0;34m=\u001B[0m\u001B[0mdtype\u001B[0m\u001B[0;34m,\u001B[0m \u001B[0m_can_consolidate\u001B[0m\u001B[0;34m=\u001B[0m\u001B[0m_can_consolidate\u001B[0m\u001B[0;34m\u001B[0m\u001B[0;34m\u001B[0m\u001B[0m\n\u001B[0m\u001B[1;32m   1888\u001B[0m         )\n\u001B[1;32m   1889\u001B[0m         \u001B[0mnew_blocks\u001B[0m \u001B[0;34m=\u001B[0m \u001B[0m_extend_blocks\u001B[0m\u001B[0;34m(\u001B[0m\u001B[0mmerged_blocks\u001B[0m\u001B[0;34m,\u001B[0m \u001B[0mnew_blocks\u001B[0m\u001B[0;34m)\u001B[0m\u001B[0;34m\u001B[0m\u001B[0;34m\u001B[0m\u001B[0m\n",
      "\u001B[0;32m~/PycharmProjects/AQI/venv/lib/python3.7/site-packages/pandas/core/internals/blocks.py\u001B[0m in \u001B[0;36m_merge_blocks\u001B[0;34m(blocks, dtype, _can_consolidate)\u001B[0m\n\u001B[1;32m   3103\u001B[0m         \u001B[0;31m# combination of those slices is a slice, too.\u001B[0m\u001B[0;34m\u001B[0m\u001B[0;34m\u001B[0m\u001B[0;34m\u001B[0m\u001B[0m\n\u001B[1;32m   3104\u001B[0m         \u001B[0mnew_mgr_locs\u001B[0m \u001B[0;34m=\u001B[0m \u001B[0mnp\u001B[0m\u001B[0;34m.\u001B[0m\u001B[0mconcatenate\u001B[0m\u001B[0;34m(\u001B[0m\u001B[0;34m[\u001B[0m\u001B[0mb\u001B[0m\u001B[0;34m.\u001B[0m\u001B[0mmgr_locs\u001B[0m\u001B[0;34m.\u001B[0m\u001B[0mas_array\u001B[0m \u001B[0;32mfor\u001B[0m \u001B[0mb\u001B[0m \u001B[0;32min\u001B[0m \u001B[0mblocks\u001B[0m\u001B[0;34m]\u001B[0m\u001B[0;34m)\u001B[0m\u001B[0;34m\u001B[0m\u001B[0;34m\u001B[0m\u001B[0m\n\u001B[0;32m-> 3105\u001B[0;31m         \u001B[0mnew_values\u001B[0m \u001B[0;34m=\u001B[0m \u001B[0mnp\u001B[0m\u001B[0;34m.\u001B[0m\u001B[0mvstack\u001B[0m\u001B[0;34m(\u001B[0m\u001B[0;34m[\u001B[0m\u001B[0mb\u001B[0m\u001B[0;34m.\u001B[0m\u001B[0mvalues\u001B[0m \u001B[0;32mfor\u001B[0m \u001B[0mb\u001B[0m \u001B[0;32min\u001B[0m \u001B[0mblocks\u001B[0m\u001B[0;34m]\u001B[0m\u001B[0;34m)\u001B[0m\u001B[0;34m\u001B[0m\u001B[0;34m\u001B[0m\u001B[0m\n\u001B[0m\u001B[1;32m   3106\u001B[0m \u001B[0;34m\u001B[0m\u001B[0m\n\u001B[1;32m   3107\u001B[0m         \u001B[0margsort\u001B[0m \u001B[0;34m=\u001B[0m \u001B[0mnp\u001B[0m\u001B[0;34m.\u001B[0m\u001B[0margsort\u001B[0m\u001B[0;34m(\u001B[0m\u001B[0mnew_mgr_locs\u001B[0m\u001B[0;34m)\u001B[0m\u001B[0;34m\u001B[0m\u001B[0;34m\u001B[0m\u001B[0m\n",
      "\u001B[0;32m<__array_function__ internals>\u001B[0m in \u001B[0;36mvstack\u001B[0;34m(*args, **kwargs)\u001B[0m\n",
      "\u001B[0;32m~/PycharmProjects/AQI/venv/lib/python3.7/site-packages/numpy/core/shape_base.py\u001B[0m in \u001B[0;36mvstack\u001B[0;34m(tup)\u001B[0m\n\u001B[1;32m    281\u001B[0m     \u001B[0;32mif\u001B[0m \u001B[0;32mnot\u001B[0m \u001B[0misinstance\u001B[0m\u001B[0;34m(\u001B[0m\u001B[0marrs\u001B[0m\u001B[0;34m,\u001B[0m \u001B[0mlist\u001B[0m\u001B[0;34m)\u001B[0m\u001B[0;34m:\u001B[0m\u001B[0;34m\u001B[0m\u001B[0;34m\u001B[0m\u001B[0m\n\u001B[1;32m    282\u001B[0m         \u001B[0marrs\u001B[0m \u001B[0;34m=\u001B[0m \u001B[0;34m[\u001B[0m\u001B[0marrs\u001B[0m\u001B[0;34m]\u001B[0m\u001B[0;34m\u001B[0m\u001B[0;34m\u001B[0m\u001B[0m\n\u001B[0;32m--> 283\u001B[0;31m     \u001B[0;32mreturn\u001B[0m \u001B[0m_nx\u001B[0m\u001B[0;34m.\u001B[0m\u001B[0mconcatenate\u001B[0m\u001B[0;34m(\u001B[0m\u001B[0marrs\u001B[0m\u001B[0;34m,\u001B[0m \u001B[0;36m0\u001B[0m\u001B[0;34m)\u001B[0m\u001B[0;34m\u001B[0m\u001B[0;34m\u001B[0m\u001B[0m\n\u001B[0m\u001B[1;32m    284\u001B[0m \u001B[0;34m\u001B[0m\u001B[0m\n\u001B[1;32m    285\u001B[0m \u001B[0;34m\u001B[0m\u001B[0m\n",
      "\u001B[0;32m<__array_function__ internals>\u001B[0m in \u001B[0;36mconcatenate\u001B[0;34m(*args, **kwargs)\u001B[0m\n",
      "\u001B[0;31mMemoryError\u001B[0m: Unable to allocate 160. MiB for an array with shape (480, 43800) and data type float64"
     ]
    }
   ],
   "source": [
    "if __name__ == '__main__':\n",
    "    PATH = './all_data.csv'\n",
    "    aqi_data = pd.read_csv(PATH)\n",
    "    aqi_data = aqi_data.drop(['Unnamed: 0', 'date'], axis=1)\n",
    "    feature_columns = aqi_data.columns\n",
    "    target_columns = ['AQI', 'PM2_5', 'PM_10', 'SO2', 'NO2', 'O3', 'CO']\n",
    "    aqi_data_supervised = series_to_supervised(aqi_data, 12, 12, True)\n",
    "    X = aqi_data_supervised[aqi_data_supervised.columns[0: feature_columns.__len__() * 12]]\n",
    "    aqi_data_y = series_to_supervised(aqi_data[target_columns], 12, 12, True)\n",
    "    y = aqi_data_y[aqi_data_y.columns[-6:-5]]\n",
    "    train_X, test_X, train_y, test_y = train_test_split(X, y, train_size=0.9, shuffle=False)\n",
    "    # # print(train_X.shape, train_y.shape, test_X.shape, test_y.shape)\n",
    "    # # print(train_X.shape, train_y.shape, test_X.shape, test_y.shape)\n",
    "    sample = train_X[0:1].values.reshape((-1, 12, feature_columns.__len__()))\n",
    "\n",
    "    scaler_X = MinMaxScaler()\n",
    "    scaler_y = MinMaxScaler()\n",
    "    train_X = scaler_X.fit_transform(train_X)\n",
    "    test_X = scaler_X.transform(test_X)\n",
    "    train_y = scaler_y.fit_transform(train_y)\n",
    "    test_y = scaler_y.transform(test_y)\n",
    "    train_X = torch.Tensor(train_X.reshape((-1, 12, 20))).cuda()\n",
    "    train_y = torch.Tensor(train_y.reshape((-1, 1))).cuda()\n",
    "    test_X = torch.Tensor(test_X.reshape((-1, 12, 20))).cuda()\n",
    "    test_y = torch.Tensor(test_y.reshape(-1, 1)).cuda()\n",
    "    # model = nn.Transformer(d_model=12, nhead=6, num_decoder_layers=2, num_encoder_layers=2).cuda()\n",
    "    aqiNet = LSTMFcLinear(12, 20).cuda()\n",
    "    model = train(aqiNet, 50, train_X, train_y, 4096)\n"
   ],
   "metadata": {
    "collapsed": false,
    "pycharm": {
     "name": "#%%\n"
    }
   }
  },
  {
   "cell_type": "code",
   "execution_count": null,
   "outputs": [],
   "source": [
    "\n"
   ],
   "metadata": {
    "collapsed": false,
    "pycharm": {
     "name": "#%%\n"
    }
   }
  }
 ],
 "metadata": {
  "kernelspec": {
   "display_name": "Python 3",
   "language": "python",
   "name": "python3"
  },
  "language_info": {
   "codemirror_mode": {
    "name": "ipython",
    "version": 2
   },
   "file_extension": ".py",
   "mimetype": "text/x-python",
   "name": "python",
   "nbconvert_exporter": "python",
   "pygments_lexer": "ipython2",
   "version": "2.7.6"
  }
 },
 "nbformat": 4,
 "nbformat_minor": 0
}