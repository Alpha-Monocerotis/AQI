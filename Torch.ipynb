{
 "cells": [
  {
   "cell_type": "code",
   "execution_count": 1,
   "metadata": {
    "collapsed": true
   },
   "outputs": [],
   "source": [
    "import pandas as pd\n",
    "import numpy as np\n",
    "from sklearn.model_selection import train_test_split\n",
    "from sklearn.preprocessing import MinMaxScaler\n",
    "from sklearn.ensemble import GradientBoostingRegressor, RandomForestRegressor\n",
    "from sklearn.linear_model import LinearRegression\n",
    "from pandas import DataFrame\n",
    "from pandas import concat\n",
    "import torch.nn as nn\n",
    "import torch\n",
    "import torch.optim as optim\n",
    "\n",
    "np.set_printoptions(suppress=True)"
   ]
  },
  {
   "cell_type": "code",
   "execution_count": 2,
   "outputs": [],
   "source": [
    "class My_loss(nn.Module):\n",
    "    def __init__(self):\n",
    "        super().__init__()\n",
    "\n",
    "    def forward(self, x, y):\n",
    "        return torch.mean(torch.pow((x - y), 2))"
   ],
   "metadata": {
    "collapsed": false,
    "pycharm": {
     "name": "#%%\n"
    }
   }
  },
  {
   "cell_type": "code",
   "execution_count": null,
   "outputs": [],
   "source": [
    "class AQINet(nn.Module):\n",
    "\n",
    "    def __init__(self, n_features, time_steps, n_outputs):\n",
    "        super(AQINet, self).__init__()\n",
    "        self.n_features = n_features\n",
    "        self.time_steps = time_steps\n",
    "        self.n_outputs = n_outputs\n",
    "\n",
    "        self.lstm1 = nn.LSTM(input_size=n_features, hidden_size=64, num_layers=6, batch_first=True)\n",
    "        self.dense1 = nn.Linear(64 * 12, 128)\n",
    "        self.dense2 = nn.Linear(128, 512)\n",
    "        self.dense3 = nn.Linear(512, 1024)\n",
    "        self.dense4 = nn.Linear(1024, 2048)\n",
    "        self.dense5 = nn.Linear(2048, 4096)\n",
    "        self.dense6 = nn.Linear(4096, 2048)\n",
    "        self.dense7 = nn.Linear(2048, 512)\n",
    "        self.dense8 = nn.Linear(512, 1024)\n",
    "        self.lstm2 = nn.LSTM(input_size=1024, hidden_size=n_outputs, num_layers=8)\n",
    "\n",
    "    def forward(self, X):\n",
    "        x, (h, c) = self.lstm1(X)\n",
    "        x = torch.flatten(x, 1, 2)\n",
    "        x = self.dense1(x)\n",
    "        x = self.dense2(x)\n",
    "        x = self.dense3(x)\n",
    "        x = nn.Tanh()(x)\n",
    "        x = self.dense4(x)\n",
    "        x = self.dense5(x)\n",
    "        x = self.dense6(x)\n",
    "        x = nn.Tanh()(x)\n",
    "        x = self.dense7(x)\n",
    "        x = self.dense8(x)\n",
    "        x = torch.reshape(x, (-1, 1, 1024))\n",
    "        out, (h1, c1) = self.lstm2(x)\n",
    "        return out"
   ],
   "metadata": {
    "collapsed": false,
    "pycharm": {
     "name": "#%%\n"
    }
   }
  },
  {
   "cell_type": "code",
   "execution_count": null,
   "outputs": [],
   "source": [
    "class AQINet2(nn.Module):\n",
    "\n",
    "    def __init__(self, n_features, time_steps, n_outputs):\n",
    "        super(AQINet2, self).__init__()\n",
    "        self.n_features = n_features\n",
    "        self.time_steps = time_steps\n",
    "        self.n_outputs = n_outputs\n",
    "        self.lstm1 = nn.LSTM(input_size=n_features, hidden_size=256, num_layers=6, batch_first=True)\n",
    "        self.fc1 = nn.Linear(256 * 12, 512)\n",
    "        self.drop1 = nn.Dropout(0.5)\n",
    "        self.fc2 = nn.Linear(512, 64)\n",
    "        self.active1 = nn.LeakyReLU()\n",
    "        self.fc3 = nn.Linear(64, 200)\n",
    "        self.fc4 = nn.Linear(200, 1)\n",
    "        self.active2 = nn.ELU()\n",
    "\n",
    "    def forward(self, X):\n",
    "        x, (h, c) = self.lstm1(X)\n",
    "        x = torch.flatten(x, start_dim=1, end_dim=-1)\n",
    "        x = self.fc1(x)\n",
    "        x = self.drop1(x)\n",
    "        x = self.fc2(x)\n",
    "        x = self.active1(x)\n",
    "        x = self.fc3(x)\n",
    "        x = self.fc4(x)\n",
    "        x = self.active2(x)\n",
    "        # print(x.shape)\n",
    "        return x"
   ],
   "metadata": {
    "collapsed": false,
    "pycharm": {
     "name": "#%%\n"
    }
   }
  },
  {
   "cell_type": "code",
   "execution_count": null,
   "outputs": [],
   "source": [
    "class Seq2Seq(nn.Module):\n",
    "\n",
    "    def __init__(self, input_size, output_size):\n",
    "        super(Seq2Seq, self).__init__()\n",
    "        self.input_size = input_size\n",
    "        self.output_size = output_size\n",
    "\n",
    "        self.encoder = nn.LSTM(input_size=input_size, hidden_size=64, num_layers=6, batch_first=True)\n",
    "        self.decoder = nn.LSTM(input_size=output_size, hidden_size=64)\n",
    "\n"
   ],
   "metadata": {
    "collapsed": false,
    "pycharm": {
     "name": "#%%\n"
    }
   }
  },
  {
   "cell_type": "code",
   "execution_count": null,
   "outputs": [],
   "source": [
    "def train(model, epochs, train_X, train_y, batch_size):\n",
    "    criterion = My_loss()\n",
    "    optimizer = optim.Adam(model.parameters(), lr=0.01)\n",
    "    for epoch in range(epochs):\n",
    "        step = 0\n",
    "        while step * batch_size < train_X.shape[0]:\n",
    "            end = train_X.shape[0]\n",
    "            if (step + 1) * batch_size < train_X.shape[0]:\n",
    "                end = (step + 1) * batch_size\n",
    "            x = train_X[step * batch_size: end]\n",
    "            y = train_y[step * batch_size: end]\n",
    "            optimizer.zero_grad()\n",
    "            out = model.forward(x)\n",
    "            # print(out.shape, y.shape)\n",
    "            # raise AttributeError(\"break\")\n",
    "            loss = criterion(out, y)\n",
    "            loss.backward()\n",
    "            optimizer.step()\n",
    "            step += 1\n",
    "            if step % 2 == 0:\n",
    "                print('epoch ' + str(epoch) + ' loss: %f' % loss.item())\n",
    "    return model"
   ],
   "metadata": {
    "collapsed": false,
    "pycharm": {
     "name": "#%%\n"
    }
   }
  },
  {
   "cell_type": "code",
   "execution_count": null,
   "outputs": [],
   "source": [
    "def series_to_supervised(data, n_in=1, n_out=1, dropnan=True):\n",
    "    n_vars = 1 if type(data) is list else data.shape[1]\n",
    "    df = DataFrame(data)\n",
    "    cols, names = [], []\n",
    "    for i in range(n_in, 0, -1):\n",
    "        cols.append(df.shift(i))\n",
    "        names += [('var%d(t-%d)' % (j + 1, i)) for j in range(n_vars)]\n",
    "    for i in range(0, n_out):\n",
    "        cols.append(df.shift(-i))\n",
    "        if i == 0:\n",
    "            names += [('var%d(t)' % (j + 1)) for j in range(n_vars)]\n",
    "        else:\n",
    "            names += [('var%d(t+%d)' % (j + 1, i)) for j in range(n_vars)]\n",
    "    agg = concat(cols, axis=1)\n",
    "    agg.columns = names\n",
    "    if dropnan:\n",
    "        agg.dropna(inplace=True)\n",
    "    return agg"
   ],
   "metadata": {
    "collapsed": false,
    "pycharm": {
     "name": "#%%\n"
    }
   }
  },
  {
   "cell_type": "code",
   "execution_count": null,
   "outputs": [],
   "source": [
    "if __name__ == '__main__':\n",
    "    PATH = './all_data.csv'\n",
    "    aqi_data = pd.read_csv(PATH)\n",
    "    aqi_data = aqi_data.drop(['Unnamed: 0', 'date'], axis=1)\n",
    "    feature_columns = aqi_data.columns\n",
    "    target_columns = ['AQI', 'PM2_5', 'PM_10', 'SO2', 'NO2', 'O3', 'CO']\n",
    "    aqi_data_supervised = series_to_supervised(aqi_data, 12, 12, True)\n",
    "    X = aqi_data_supervised[aqi_data_supervised.columns[0: feature_columns.__len__() * 12]]\n",
    "    aqi_data_y = series_to_supervised(aqi_data[target_columns], 12, 12, True)\n",
    "    y = aqi_data_y[aqi_data_y.columns[target_columns.__len__() * 12:target_columns.__len__() * 12 + 1]]\n",
    "    train_X, test_X, train_y, test_y = train_test_split(X, y, train_size=0.9, shuffle=False)\n",
    "    # # print(train_X.shape, train_y.shape, test_X.shape, test_y.shape)\n",
    "    # # print(train_X.shape, train_y.shape, test_X.shape, test_y.shape)\n",
    "    sample = train_X[0:1].values.reshape((-1, 12, feature_columns.__len__()))\n",
    "\n",
    "    scaler_X = MinMaxScaler()\n",
    "    scaler_y = MinMaxScaler()\n",
    "    train_X = scaler_X.fit_transform(train_X)\n",
    "    test_X = scaler_X.transform(test_X)\n",
    "    train_y = scaler_y.fit_transform(train_y)\n",
    "    test_y = scaler_y.transform(test_y)\n",
    "    train_X = torch.Tensor(train_X.reshape((-1, 12, 20))).cuda()\n",
    "    train_y = torch.Tensor(train_y.reshape((-1, 1))).cuda()\n",
    "    test_X = torch.Tensor(test_X.reshape((-1, 12, 20))).cuda()\n",
    "    test_y = torch.Tensor(test_y.reshape(-1, 1)).cuda()\n",
    "    # model = nn.Transformer(d_model=12, nhead=6, num_decoder_layers=2, num_encoder_layers=2).cuda()\n",
    "    aqiNet = AQINet2(20, 12, 7).cuda()\n",
    "    model = train(aqiNet, 50, train_X, train_y, 4096)\n",
    "\n"
   ],
   "metadata": {
    "collapsed": false,
    "pycharm": {
     "name": "#%%\n"
    }
   }
  }
 ],
 "metadata": {
  "kernelspec": {
   "display_name": "Python 3",
   "language": "python",
   "name": "python3"
  },
  "language_info": {
   "codemirror_mode": {
    "name": "ipython",
    "version": 2
   },
   "file_extension": ".py",
   "mimetype": "text/x-python",
   "name": "python",
   "nbconvert_exporter": "python",
   "pygments_lexer": "ipython2",
   "version": "2.7.6"
  }
 },
 "nbformat": 4,
 "nbformat_minor": 0
}